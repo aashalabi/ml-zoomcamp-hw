{
 "cells": [
  {
   "cell_type": "markdown",
   "id": "5ccd9227-7ff1-4008-918a-919b2d4a4232",
   "metadata": {},
   "source": [
    "# Zoomcamp ML learning wk2"
   ]
  },
  {
   "cell_type": "code",
   "execution_count": 1,
   "id": "95231a28-e008-4724-b2bd-ff332f975a1b",
   "metadata": {},
   "outputs": [],
   "source": [
    "import pandas as pd\n",
    "import numpy as np\n",
    "import seaborn as sns\n",
    "from matplotlib import pyplot as plt\n",
    "%matplotlib inline"
   ]
  },
  {
   "cell_type": "code",
   "execution_count": 1,
   "id": "a3f30bc8-6966-43af-8600-36af12836418",
   "metadata": {},
   "outputs": [
    {
     "name": "stderr",
     "output_type": "stream",
     "text": [
      "  % Total    % Received % Xferd  Average Speed   Time    Time     Time  Current\n",
      "                                 Dload  Upload   Total   Spent    Left  Speed\n",
      "\n",
      "  0     0    0     0    0     0      0      0 --:--:-- --:--:-- --:--:--     0\n",
      "  5  291k    5 15479    0     0  19837      0  0:00:15 --:--:--  0:00:15 19947\n",
      "100  291k  100  291k    0     0   331k      0 --:--:-- --:--:-- --:--:--  333k\n"
     ]
    }
   ],
   "source": [
    "#load data\n",
    "#wget https://raw.githubusercontent.com/alexeygrigorev/datasets/master/laptops.csv\n",
    "!curl -O https://raw.githubusercontent.com/alexeygrigorev/datasets/master/laptops.csv"
   ]
  },
  {
   "cell_type": "code",
   "execution_count": 182,
   "id": "ffb1ad12-90f2-4e47-9c86-cee711209148",
   "metadata": {},
   "outputs": [],
   "source": [
    "df = pd.read_csv('laptops.csv')"
   ]
  },
  {
   "cell_type": "code",
   "execution_count": 183,
   "id": "501e4c2e-b410-4f6a-9fc2-2f6c9650b497",
   "metadata": {},
   "outputs": [
    {
     "name": "stdout",
     "output_type": "stream",
     "text": [
      "<class 'pandas.core.frame.DataFrame'>\n",
      "RangeIndex: 2160 entries, 0 to 2159\n",
      "Data columns (total 12 columns):\n",
      " #   Column        Non-Null Count  Dtype  \n",
      "---  ------        --------------  -----  \n",
      " 0   laptop        2160 non-null   object \n",
      " 1   status        2160 non-null   object \n",
      " 2   brand         2160 non-null   object \n",
      " 3   model         2160 non-null   object \n",
      " 4   cpu           2160 non-null   object \n",
      " 5   ram           2160 non-null   int64  \n",
      " 6   storage       2160 non-null   int64  \n",
      " 7   storage_type  2118 non-null   object \n",
      " 8   gpu           789 non-null    object \n",
      " 9   screen        2156 non-null   float64\n",
      " 10  touch         2160 non-null   object \n",
      " 11  final_price   2160 non-null   float64\n",
      "dtypes: float64(2), int64(2), object(8)\n",
      "memory usage: 202.6+ KB\n"
     ]
    }
   ],
   "source": [
    "df.columns = df.columns.str.lower().str.replace(' ', '_')\n",
    "df.info()"
   ]
  },
  {
   "cell_type": "markdown",
   "id": "5834a3d6-250e-4ce5-8b39-7d8a60e64536",
   "metadata": {},
   "source": [
    "## Exploratory data analysis"
   ]
  },
  {
   "cell_type": "code",
   "execution_count": 184,
   "id": "35e2a4d9-f70c-44e1-a582-1b0b0ed36093",
   "metadata": {},
   "outputs": [
    {
     "data": {
      "text/plain": [
       "count    2160.000000\n",
       "mean     1312.638509\n",
       "std       911.475417\n",
       "min       201.050000\n",
       "25%       661.082500\n",
       "50%      1031.945000\n",
       "75%      1708.970000\n",
       "max      7150.470000\n",
       "Name: final_price, dtype: float64"
      ]
     },
     "execution_count": 184,
     "metadata": {},
     "output_type": "execute_result"
    }
   ],
   "source": [
    "df['final_price'].describe()"
   ]
  },
  {
   "cell_type": "code",
   "execution_count": 185,
   "id": "ab9183ae-1ee7-4dc1-8b7f-534dc3639731",
   "metadata": {},
   "outputs": [
    {
     "data": {
      "image/png": "[encoded data removed]",
      "text/plain": [
       "<Figure size 600x400 with 1 Axes>"
      ]
     },
     "metadata": {},
     "output_type": "display_data"
    }
   ],
   "source": [
    "plt.figure(figsize=(6, 4))\n",
    "\n",
    "sns.histplot(df['final_price'], bins=40, color='blue', alpha=1)\n",
    "plt.ylabel('Frequency')\n",
    "plt.xlabel('Price')\n",
    "plt.title('Distribution of prices')\n",
    "\n",
    "plt.show()"
   ]
  },
  {
   "cell_type": "code",
   "execution_count": 186,
   "id": "b602f9d7",
   "metadata": {},
   "outputs": [
    {
     "data": {
      "text/html": [
       "<div>\n",
       "<style scoped>\n",
       "    .dataframe tbody tr th:only-of-type {\n",
       "        vertical-align: middle;\n",
       "    }\n",
       "\n",
       "    .dataframe tbody tr th {\n",
       "        vertical-align: top;\n",
       "    }\n",
       "\n",
       "    .dataframe thead th {\n",
       "        text-align: right;\n",
       "    }\n",
       "</style>\n",
       "<table border=\"1\" class=\"dataframe\">\n",
       "  <thead>\n",
       "    <tr style=\"text-align: right;\">\n",
       "      <th></th>\n",
       "      <th>laptop</th>\n",
       "      <th>status</th>\n",
       "      <th>brand</th>\n",
       "      <th>model</th>\n",
       "      <th>cpu</th>\n",
       "      <th>ram</th>\n",
       "      <th>storage</th>\n",
       "      <th>storage_type</th>\n",
       "      <th>gpu</th>\n",
       "      <th>screen</th>\n",
       "      <th>touch</th>\n",
       "      <th>final_price</th>\n",
       "    </tr>\n",
       "  </thead>\n",
       "  <tbody>\n",
       "    <tr>\n",
       "      <th>1099</th>\n",
       "      <td>MSI Raider GE78HX 13VH-065ES Intel Core i9-139...</td>\n",
       "      <td>New</td>\n",
       "      <td>MSI</td>\n",
       "      <td>Raider</td>\n",
       "      <td>Intel Core i9</td>\n",
       "      <td>32</td>\n",
       "      <td>2000</td>\n",
       "      <td>SSD</td>\n",
       "      <td>RTX 4080</td>\n",
       "      <td>17.0</td>\n",
       "      <td>No</td>\n",
       "      <td>7150.47</td>\n",
       "    </tr>\n",
       "  </tbody>\n",
       "</table>\n",
       "</div>"
      ],
      "text/plain": [
       "                                                 laptop status brand   model  \\\n",
       "1099  MSI Raider GE78HX 13VH-065ES Intel Core i9-139...    New   MSI  Raider   \n",
       "\n",
       "                cpu  ram  storage storage_type       gpu  screen touch  \\\n",
       "1099  Intel Core i9   32     2000          SSD  RTX 4080    17.0    No   \n",
       "\n",
       "      final_price  \n",
       "1099      7150.47  "
      ]
     },
     "execution_count": 186,
     "metadata": {},
     "output_type": "execute_result"
    }
   ],
   "source": [
    "df[ df['final_price'] > 6000].head()"
   ]
  },
  {
   "cell_type": "code",
   "execution_count": 187,
   "id": "fa06be55",
   "metadata": {},
   "outputs": [],
   "source": [
    "#remove long tail\n",
    "df = df[ df['final_price'] <= 6000]"
   ]
  },
  {
   "cell_type": "code",
   "execution_count": 188,
   "id": "b8f45a09-e254-4cb4-a43d-eb1122963d59",
   "metadata": {},
   "outputs": [],
   "source": [
    "col_subset = ['ram','storage','screen','final_price']\n",
    "df = df[col_subset]"
   ]
  },
  {
   "cell_type": "code",
   "execution_count": 189,
   "id": "1ba53840",
   "metadata": {},
   "outputs": [
    {
     "data": {
      "text/html": [
       "<div>\n",
       "<style scoped>\n",
       "    .dataframe tbody tr th:only-of-type {\n",
       "        vertical-align: middle;\n",
       "    }\n",
       "\n",
       "    .dataframe tbody tr th {\n",
       "        vertical-align: top;\n",
       "    }\n",
       "\n",
       "    .dataframe thead th {\n",
       "        text-align: right;\n",
       "    }\n",
       "</style>\n",
       "<table border=\"1\" class=\"dataframe\">\n",
       "  <thead>\n",
       "    <tr style=\"text-align: right;\">\n",
       "      <th></th>\n",
       "      <th>ram</th>\n",
       "      <th>storage</th>\n",
       "      <th>screen</th>\n",
       "      <th>final_price</th>\n",
       "    </tr>\n",
       "  </thead>\n",
       "  <tbody>\n",
       "    <tr>\n",
       "      <th>0</th>\n",
       "      <td>8</td>\n",
       "      <td>512</td>\n",
       "      <td>15.6</td>\n",
       "      <td>1009.00</td>\n",
       "    </tr>\n",
       "    <tr>\n",
       "      <th>1</th>\n",
       "      <td>8</td>\n",
       "      <td>256</td>\n",
       "      <td>15.6</td>\n",
       "      <td>299.00</td>\n",
       "    </tr>\n",
       "    <tr>\n",
       "      <th>2</th>\n",
       "      <td>8</td>\n",
       "      <td>256</td>\n",
       "      <td>15.6</td>\n",
       "      <td>789.00</td>\n",
       "    </tr>\n",
       "    <tr>\n",
       "      <th>3</th>\n",
       "      <td>16</td>\n",
       "      <td>1000</td>\n",
       "      <td>15.6</td>\n",
       "      <td>1199.00</td>\n",
       "    </tr>\n",
       "    <tr>\n",
       "      <th>4</th>\n",
       "      <td>16</td>\n",
       "      <td>512</td>\n",
       "      <td>15.6</td>\n",
       "      <td>669.01</td>\n",
       "    </tr>\n",
       "  </tbody>\n",
       "</table>\n",
       "</div>"
      ],
      "text/plain": [
       "   ram  storage  screen  final_price\n",
       "0    8      512    15.6      1009.00\n",
       "1    8      256    15.6       299.00\n",
       "2    8      256    15.6       789.00\n",
       "3   16     1000    15.6      1199.00\n",
       "4   16      512    15.6       669.01"
      ]
     },
     "execution_count": 189,
     "metadata": {},
     "output_type": "execute_result"
    }
   ],
   "source": [
    "df.head()\n"
   ]
  },
  {
   "cell_type": "markdown",
   "id": "1fd5f37f-c5a7-4a1a-914e-2362020ff01c",
   "metadata": {},
   "source": [
    "# Question 1\n",
    "There's one feature with missing values. What is it?"
   ]
  },
  {
   "cell_type": "code",
   "execution_count": 190,
   "id": "5c89314b-0300-4b48-9b47-ed11e26440a4",
   "metadata": {
    "scrolled": true
   },
   "outputs": [
    {
     "data": {
      "text/plain": [
       "ram            0\n",
       "storage        0\n",
       "screen         4\n",
       "final_price    0\n",
       "dtype: int64"
      ]
     },
     "execution_count": 190,
     "metadata": {},
     "output_type": "execute_result"
    }
   ],
   "source": [
    "df.isnull().sum()"
   ]
  },
  {
   "cell_type": "markdown",
   "id": "7ce6429d-dee6-408e-aaa4-51481aa9a3f5",
   "metadata": {},
   "source": [
    "screen has 4 missing values"
   ]
  },
  {
   "cell_type": "markdown",
   "id": "454d4e8c-525a-45f8-98eb-4cf730670796",
   "metadata": {},
   "source": [
    "# Question 2\n",
    "What's the median (50% percentile) for variable 'ram'?"
   ]
  },
  {
   "cell_type": "code",
   "execution_count": 191,
   "id": "379191ec-7e89-4267-a04e-863e42fc661f",
   "metadata": {},
   "outputs": [
    {
     "data": {
      "text/plain": [
       "count    2159.000000\n",
       "mean       15.406207\n",
       "std         9.863638\n",
       "min         4.000000\n",
       "25%         8.000000\n",
       "50%        16.000000\n",
       "75%        16.000000\n",
       "max       128.000000\n",
       "Name: ram, dtype: float64"
      ]
     },
     "execution_count": 191,
     "metadata": {},
     "output_type": "execute_result"
    }
   ],
   "source": [
    "df['ram'].describe()"
   ]
  },
  {
   "cell_type": "markdown",
   "id": "bfb0e6ed-5d9c-4e6e-aba3-f240b3313b06",
   "metadata": {},
   "source": [
    "median (50% percentile) for variable 'ram' : 16"
   ]
  },
  {
   "cell_type": "markdown",
   "id": "fff9cf5e-c568-464f-a654-e19508c6314e",
   "metadata": {},
   "source": [
    "# Prepare and split the dataset\n",
    "```\n",
    "Shuffle the dataset (the filtered one you created above), use seed 42.\n",
    "Split your data in train/val/test sets, with 60%/20%/20% distribution.\n",
    "\n",
    "```"
   ]
  },
  {
   "cell_type": "code",
   "execution_count": 192,
   "id": "31e3aee8-eab3-4df7-b4fe-421c5a000a71",
   "metadata": {},
   "outputs": [
    {
     "data": {
      "text/html": [
       "<div>\n",
       "<style scoped>\n",
       "    .dataframe tbody tr th:only-of-type {\n",
       "        vertical-align: middle;\n",
       "    }\n",
       "\n",
       "    .dataframe tbody tr th {\n",
       "        vertical-align: top;\n",
       "    }\n",
       "\n",
       "    .dataframe thead th {\n",
       "        text-align: right;\n",
       "    }\n",
       "</style>\n",
       "<table border=\"1\" class=\"dataframe\">\n",
       "  <thead>\n",
       "    <tr style=\"text-align: right;\">\n",
       "      <th></th>\n",
       "      <th>ram</th>\n",
       "      <th>storage</th>\n",
       "      <th>screen</th>\n",
       "      <th>final_price</th>\n",
       "    </tr>\n",
       "  </thead>\n",
       "  <tbody>\n",
       "    <tr>\n",
       "      <th>0</th>\n",
       "      <td>8</td>\n",
       "      <td>512</td>\n",
       "      <td>15.6</td>\n",
       "      <td>1009.00</td>\n",
       "    </tr>\n",
       "    <tr>\n",
       "      <th>1</th>\n",
       "      <td>8</td>\n",
       "      <td>256</td>\n",
       "      <td>15.6</td>\n",
       "      <td>299.00</td>\n",
       "    </tr>\n",
       "    <tr>\n",
       "      <th>2</th>\n",
       "      <td>8</td>\n",
       "      <td>256</td>\n",
       "      <td>15.6</td>\n",
       "      <td>789.00</td>\n",
       "    </tr>\n",
       "    <tr>\n",
       "      <th>3</th>\n",
       "      <td>16</td>\n",
       "      <td>1000</td>\n",
       "      <td>15.6</td>\n",
       "      <td>1199.00</td>\n",
       "    </tr>\n",
       "    <tr>\n",
       "      <th>4</th>\n",
       "      <td>16</td>\n",
       "      <td>512</td>\n",
       "      <td>15.6</td>\n",
       "      <td>669.01</td>\n",
       "    </tr>\n",
       "  </tbody>\n",
       "</table>\n",
       "</div>"
      ],
      "text/plain": [
       "   ram  storage  screen  final_price\n",
       "0    8      512    15.6      1009.00\n",
       "1    8      256    15.6       299.00\n",
       "2    8      256    15.6       789.00\n",
       "3   16     1000    15.6      1199.00\n",
       "4   16      512    15.6       669.01"
      ]
     },
     "execution_count": 192,
     "metadata": {},
     "output_type": "execute_result"
    }
   ],
   "source": [
    "df = df.reset_index(drop=True)\n",
    "df.head()"
   ]
  },
  {
   "cell_type": "code",
   "execution_count": 193,
   "id": "6e799786-0688-4a48-b42a-4a5c20709748",
   "metadata": {},
   "outputs": [],
   "source": [
    "np.random.seed(42)\n",
    "n = len(df)\n",
    "\n",
    "n_val = int(0.2 * n)\n",
    "n_test = int(0.2 * n)\n",
    "n_train = n - (n_val + n_test)\n",
    "\n",
    "idx = np.arange(n)\n",
    "np.random.shuffle(idx)\n",
    "\n",
    "df_shuffled = df.iloc[idx]\n",
    "df_shuffled = df_shuffled.reset_index(drop=True)"
   ]
  },
  {
   "cell_type": "code",
   "execution_count": 194,
   "id": "2f49089f-eb96-4a11-9914-77060d048a14",
   "metadata": {},
   "outputs": [],
   "source": [
    "df_train = df_shuffled.iloc[:n_train].copy()\n",
    "df_val = df_shuffled.iloc[n_train:n_train+n_val].copy()\n",
    "df_test = df_shuffled.iloc[n_train+n_val:].copy()"
   ]
  },
  {
   "cell_type": "code",
   "execution_count": 195,
   "id": "a37f7cba-afaf-4368-85a1-3da1f2b1e662",
   "metadata": {},
   "outputs": [],
   "source": [
    "y_train_orig = df_train.final_price.values\n",
    "y_val_orig = df_val.final_price.values\n",
    "y_test_orig = df_test.final_price.values\n",
    "\n",
    "#y_train = np.log1p(df_train.final_price.values)\n",
    "#y_val = np.log1p(df_val.final_price.values)\n",
    "#y_test = np.log1p(df_test.final_price.values)\n",
    "\n",
    "y_train = df_train.final_price.values\n",
    "y_val = df_val.final_price.values\n",
    "y_test = df_test.final_price.values\n",
    "\n",
    "\n",
    "del df_train['final_price']\n",
    "del df_val['final_price']\n",
    "del df_test['final_price']"
   ]
  },
  {
   "cell_type": "code",
   "execution_count": 197,
   "id": "45f91e2e-76d0-49bf-bd9e-5757060e170f",
   "metadata": {},
   "outputs": [
    {
     "name": "stdout",
     "output_type": "stream",
     "text": [
      "<class 'pandas.core.frame.DataFrame'>\n",
      "RangeIndex: 1297 entries, 0 to 1296\n",
      "Data columns (total 3 columns):\n",
      " #   Column   Non-Null Count  Dtype  \n",
      "---  ------   --------------  -----  \n",
      " 0   ram      1297 non-null   int64  \n",
      " 1   storage  1297 non-null   int64  \n",
      " 2   screen   1294 non-null   float64\n",
      "dtypes: float64(1), int64(2)\n",
      "memory usage: 30.5 KB\n"
     ]
    }
   ],
   "source": [
    "df_train.info()"
   ]
  },
  {
   "cell_type": "markdown",
   "id": "cfbee67e",
   "metadata": {},
   "source": [
    "# Question 3\n",
    "```\n",
    "We need to deal with missing values for the column from Q1.\n",
    "We have two options: fill it with 0 or with the mean of this variable.\n",
    "Try both options. For each, train a linear regression model without regularization using the code from the lessons.\n",
    "For computing the mean, use the training only!\n",
    "Use the validation dataset to evaluate the models and compare the RMSE of each option.\n",
    "Round the RMSE scores to 2 decimal digits using round(score, 2)\n",
    "Which option gives better RMSE?\n",
    "```"
   ]
  },
  {
   "cell_type": "code",
   "execution_count": 199,
   "id": "7703e410-f167-4503-8f82-17e04d0c2228",
   "metadata": {},
   "outputs": [],
   "source": [
    "screen_mean = int(df_train['screen'].mean())\n"
   ]
  },
  {
   "cell_type": "code",
   "execution_count": 200,
   "id": "1ac1c0bc-b53c-4107-8a97-f5f401961ba6",
   "metadata": {},
   "outputs": [],
   "source": [
    "df_train_m = df_train.copy()\n",
    "df_train_m['screen'] = df_train_m['screen'].fillna(screen_mean)\n"
   ]
  },
  {
   "cell_type": "code",
   "execution_count": 201,
   "id": "da1c2695-f43f-4ada-b3c2-078b35630282",
   "metadata": {},
   "outputs": [],
   "source": [
    "df_train_z = df_train.copy()\n",
    "#df_train_z['ram'] = df_train_z['ram'].fillna(0)\n",
    "#df_train_z['storage'] = df_train_z['storage'].fillna(0)\n",
    "df_train_z['screen'] = df_train_z['screen'].fillna(0.0)"
   ]
  },
  {
   "cell_type": "code",
   "execution_count": 202,
   "id": "fcb8b242",
   "metadata": {},
   "outputs": [
    {
     "name": "stdout",
     "output_type": "stream",
     "text": [
      "<class 'pandas.core.frame.DataFrame'>\n",
      "RangeIndex: 1297 entries, 0 to 1296\n",
      "Data columns (total 3 columns):\n",
      " #   Column   Non-Null Count  Dtype  \n",
      "---  ------   --------------  -----  \n",
      " 0   ram      1297 non-null   int64  \n",
      " 1   storage  1297 non-null   int64  \n",
      " 2   screen   1297 non-null   float64\n",
      "dtypes: float64(1), int64(2)\n",
      "memory usage: 30.5 KB\n"
     ]
    }
   ],
   "source": [
    "df_train_z.info()"
   ]
  },
  {
   "cell_type": "code",
   "execution_count": 203,
   "id": "b08dff10-ced4-49b1-92f6-061847c8323d",
   "metadata": {},
   "outputs": [],
   "source": [
    "X_train_m = df_train_m.values\n",
    "X_train_z = df_train_z.values"
   ]
  },
  {
   "cell_type": "code",
   "execution_count": 204,
   "id": "48226b1e-443a-4880-aaaa-dc2920125000",
   "metadata": {},
   "outputs": [],
   "source": [
    "def train_linear_regression_reg(X, y, r=0.0):\n",
    "    ones = np.ones(X.shape[0])\n",
    "    X = np.column_stack([ones, X])\n",
    "\n",
    "    XTX = X.T.dot(X)\n",
    "    reg = r * np.eye(XTX.shape[0])\n",
    "    XTX = XTX + reg\n",
    "\n",
    "    XTX_inv = np.linalg.inv(XTX)\n",
    "    w = XTX_inv.dot(X.T).dot(y)\n",
    "    \n",
    "    return w[0], w[1:]"
   ]
  },
  {
   "cell_type": "code",
   "execution_count": 205,
   "id": "ed20189c-64d1-4f0f-96c6-1c51476f752f",
   "metadata": {},
   "outputs": [],
   "source": [
    "def rmse(y, y_pred):\n",
    "    error = y_pred - y\n",
    "    mse = (error ** 2).mean()\n",
    "    return np.sqrt(mse)"
   ]
  },
  {
   "cell_type": "code",
   "execution_count": 206,
   "id": "db99bcf7-40a9-463f-9509-3bb9c2ced912",
   "metadata": {},
   "outputs": [
    {
     "data": {
      "text/plain": [
       "array([2355.61808856,  409.29816937, 2404.14351253, ..., 1305.62680431,\n",
       "       2343.48673257, 1257.10138034])"
      ]
     },
     "execution_count": 206,
     "metadata": {},
     "output_type": "execute_result"
    }
   ],
   "source": [
    "w_0_m, w_m = train_linear_regression_reg(X_train_m, y_train)\n",
    "y_predict_m = w_0_m + X_train_m.dot(w_m)\n",
    "y_predict_m"
   ]
  },
  {
   "cell_type": "code",
   "execution_count": 207,
   "id": "b6bc612f-5986-4753-a5b7-556e3db5482a",
   "metadata": {},
   "outputs": [
    {
     "data": {
      "text/plain": [
       "np.float64(597.46)"
      ]
     },
     "execution_count": 207,
     "metadata": {},
     "output_type": "execute_result"
    }
   ],
   "source": [
    "rmse_m = round(rmse(y_train, y_predict_m), 2)\n",
    "rmse_m"
   ]
  },
  {
   "cell_type": "code",
   "execution_count": 208,
   "id": "5f0d6594-c224-40fc-9df9-4a13bfbd6430",
   "metadata": {},
   "outputs": [
    {
     "data": {
      "text/plain": [
       "array([2353.83021543,  406.14897439, 2394.6384241 , ..., 1299.35897576,\n",
       "       2343.62816326, 1258.5507671 ])"
      ]
     },
     "execution_count": 208,
     "metadata": {},
     "output_type": "execute_result"
    }
   ],
   "source": [
    "w_0_z, w_z = train_linear_regression_reg(X_train_z, y_train)\n",
    "y_predict_z = w_0_z + X_train_z.dot(w_z)\n",
    "y_predict_z"
   ]
  },
  {
   "cell_type": "code",
   "execution_count": 209,
   "id": "164673c2-184b-4406-b49d-4377d6d0a1b5",
   "metadata": {},
   "outputs": [
    {
     "data": {
      "text/plain": [
       "np.float64(597.46)"
      ]
     },
     "execution_count": 209,
     "metadata": {},
     "output_type": "execute_result"
    }
   ],
   "source": [
    "rmse_z = round(rmse(y_train, y_predict_z),2)\n",
    "rmse_z"
   ]
  },
  {
   "cell_type": "code",
   "execution_count": 210,
   "id": "2591d54a",
   "metadata": {},
   "outputs": [
    {
     "name": "stdout",
     "output_type": "stream",
     "text": [
      "RMSE, mean filling 597.46\n",
      "RMSE, zero filling 597.46\n"
     ]
    }
   ],
   "source": [
    "print('RMSE, mean filling',  rmse_m)\n",
    "print('RMSE, zero filling', rmse_z)"
   ]
  },
  {
   "cell_type": "markdown",
   "id": "73cc5486",
   "metadata": {},
   "source": [
    "Q3 answer:  fill missing values with mean or zero gives the same RMSE"
   ]
  },
  {
   "cell_type": "markdown",
   "id": "f40a54bb-415b-44df-bf5d-e3afd025f686",
   "metadata": {},
   "source": [
    "# Question 4\n",
    "```\n",
    "Now let's train a regularized linear regression.\n",
    "For this question, fill the NAs with 0.\n",
    "Try different values of r from this list: [0, 0.01, 0.1, 1, 5, 10, 100].\n",
    "Use RMSE to evaluate the model on the validation dataset.\n",
    "Round the RMSE scores to 2 decimal digits.\n",
    "Which r gives the best RMSE?\n",
    "If there are multiple options, select the smallest r.\n",
    "```"
   ]
  },
  {
   "cell_type": "code",
   "execution_count": 165,
   "id": "48e8c66e-918e-4f0c-a523-294ffd379b0d",
   "metadata": {},
   "outputs": [],
   "source": [
    "r_list = [0, 0.01, 0.1, 1, 5, 10, 100]"
   ]
  },
  {
   "cell_type": "code",
   "execution_count": 211,
   "id": "dbc6bc9c-1d46-4e0a-b67b-703c9899d95f",
   "metadata": {},
   "outputs": [
    {
     "name": "stdout",
     "output_type": "stream",
     "text": [
      "0 572.11\n",
      "0.01 572.11\n",
      "0.1 572.12\n",
      "1 572.27\n",
      "5 572.85\n",
      "10 573.4\n",
      "100 575.3\n"
     ]
    }
   ],
   "source": [
    "X_valid = df_val.fillna(0).values\n",
    "\n",
    "for r in r_list:\n",
    "    w_0, w = train_linear_regression_reg(X_train_z, y_train, r)\n",
    "    y_predict_val = w_0 + X_valid.dot(w)\n",
    "    valid_rmse = round(rmse(y_val, y_predict_val), 2)\n",
    "    #print(y_predict_val)\n",
    "    print(r,valid_rmse) \n",
    "    \n",
    "    \n",
    "    "
   ]
  },
  {
   "cell_type": "markdown",
   "id": "7a36717e-eb04-4d79-8085-a124ce5bac9f",
   "metadata": {},
   "source": [
    "R(0, 0.01) gave teh same RMSE of 572.11. Select the lowest r = 0"
   ]
  },
  {
   "cell_type": "markdown",
   "id": "4ff0fb4a-26ce-4bf2-a166-422fef7d3931",
   "metadata": {},
   "source": [
    "# Question 5"
   ]
  },
  {
   "cell_type": "markdown",
   "id": "0e5f8ac5-35ad-4e19-b7d0-805b08ccbe31",
   "metadata": {},
   "source": [
    "```\n",
    "We used seed 42 for splitting the data. Let's find out how selecting the seed influences our score.\n",
    "Try different seed values: [0, 1, 2, 3, 4, 5, 6, 7, 8, 9].\n",
    "For each seed, do the train/validation/test split with 60%/20%/20% distribution.\n",
    "Fill the missing values with 0 and train a model without regularization.\n",
    "For each seed, evaluate the model on the validation dataset and collect the RMSE scores.\n",
    "What's the standard deviation of all the scores? To compute the standard deviation, use np.std.\n",
    "Round the result to 3 decimal digits (round(std, 3))\n",
    "```"
   ]
  },
  {
   "cell_type": "code",
   "execution_count": 212,
   "id": "14d14f29-cf98-4f41-91fc-a5959f21fafb",
   "metadata": {},
   "outputs": [],
   "source": [
    "def suffle_df(df, seed):\n",
    "    \n",
    "    np.random.seed(seed)\n",
    "    n = len(df)\n",
    "    \n",
    "    idx = np.arange(n)\n",
    "    np.random.shuffle(idx)\n",
    "    \n",
    "    df_shuffled = df.iloc[idx]\n",
    "    \n",
    "    return df_shuffled"
   ]
  },
  {
   "cell_type": "code",
   "execution_count": 213,
   "id": "f3680293",
   "metadata": {},
   "outputs": [
    {
     "name": "stdout",
     "output_type": "stream",
     "text": [
      "<class 'pandas.core.frame.DataFrame'>\n",
      "RangeIndex: 2159 entries, 0 to 2158\n",
      "Data columns (total 4 columns):\n",
      " #   Column       Non-Null Count  Dtype  \n",
      "---  ------       --------------  -----  \n",
      " 0   ram          2159 non-null   int64  \n",
      " 1   storage      2159 non-null   int64  \n",
      " 2   screen       2155 non-null   float64\n",
      " 3   final_price  2159 non-null   float64\n",
      "dtypes: float64(2), int64(2)\n",
      "memory usage: 67.6 KB\n"
     ]
    }
   ],
   "source": [
    "df.info()"
   ]
  },
  {
   "cell_type": "code",
   "execution_count": 214,
   "id": "2a7dc046-859f-4ca5-ac6c-af08e8947f86",
   "metadata": {},
   "outputs": [],
   "source": [
    "\n",
    "\n",
    "def train_seeds(df, seeds):\n",
    "    rmse_list  = np.array([])\n",
    "    for seed in seeds:\n",
    "        \n",
    "        df_shuffled = suffle_df(df, seed)\n",
    "        df_shuffled = df_shuffled.reset_index(drop=True)\n",
    "        \n",
    "        n = len(df_shuffled)\n",
    "        \n",
    "        n_val = int(0.2 * n)\n",
    "        n_test = int(0.2 * n)\n",
    "        n_train = n - (n_val + n_test)\n",
    "        \n",
    "        df_train = df_shuffled.iloc[:n_train].copy()\n",
    "        df_val = df_shuffled.iloc[n_train:n_train+n_val].copy()\n",
    "        df_test = df_shuffled.iloc[n_train+n_val:].copy()\n",
    "          \n",
    "        #y_train = np.log1p(df_train.final_price.values)\n",
    "        #y_val = np.log1p(df_val.final_price.values)\n",
    "        #y_test = np.log1p(df_test.final_price.values)\n",
    "        y_train = df_train.final_price.values\n",
    "        y_val = df_val.final_price.values\n",
    "\n",
    "\n",
    "        del df_train['final_price']\n",
    "        del df_val['final_price']\n",
    "        del df_test['final_price']\n",
    "    \n",
    "\n",
    "        df_train['screen'] = df_train['screen'].fillna(0.0)\n",
    "        X_train = df_train.values\n",
    "        \n",
    "        df_val['screen'] = df_val['screen'].fillna(0.0)\n",
    "        X_val = df_val.values\n",
    "        \n",
    "        w_0, w = train_linear_regression_reg(X_train, y_train)\n",
    "    \n",
    "        y_predict_val = w_0 + X_val.dot(w)\n",
    "        val_rmse = rmse(y_val, y_predict_val)\n",
    "        \n",
    "        \n",
    "        rmse_list = np.append(rmse_list, val_rmse)\n",
    "\n",
    "    return rmse_list\n"
   ]
  },
  {
   "cell_type": "code",
   "execution_count": 215,
   "id": "ed8e22f3-536b-477f-a807-858d62b8b7da",
   "metadata": {},
   "outputs": [
    {
     "data": {
      "text/plain": [
       "array([582.27158534, 629.36771227, 637.63658878, 632.36147657,\n",
       "       573.22704045, 622.88931554, 656.78481162, 516.80521688,\n",
       "       649.91298975, 549.36565545])"
      ]
     },
     "execution_count": 215,
     "metadata": {},
     "output_type": "execute_result"
    }
   ],
   "source": [
    "seeds = [0, 1, 2, 3, 4, 5, 6, 7, 8, 9]\n",
    "\n",
    "rmse_list = train_seeds(df, seeds)\n",
    "rmse_list"
   ]
  },
  {
   "cell_type": "code",
   "execution_count": 216,
   "id": "596b202d-edf8-4089-b913-1efd9b2f6e7c",
   "metadata": {},
   "outputs": [
    {
     "name": "stdout",
     "output_type": "stream",
     "text": [
      " STD of RMSE Scores = 44.526\n"
     ]
    }
   ],
   "source": [
    "rmse_list_std = round(np.std(rmse_list), 3)\n",
    "print(' STD of RMSE Scores = {}'.format(rmse_list_std))\n"
   ]
  },
  {
   "cell_type": "markdown",
   "id": "8f349eda-ba81-44e3-b26c-dc8a95822c22",
   "metadata": {},
   "source": [
    "# Question 6\n",
    "```\n",
    "Split the dataset like previously, use seed 9.\n",
    "Combine train and validation datasets.\n",
    "Fill the missing values with 0 and train a model with r=0.001.\n",
    "What's the RMSE on the test dataset?\n",
    "```"
   ]
  },
  {
   "cell_type": "code",
   "execution_count": 217,
   "id": "722bc98b",
   "metadata": {},
   "outputs": [
    {
     "name": "stdout",
     "output_type": "stream",
     "text": [
      "<class 'pandas.core.frame.DataFrame'>\n",
      "RangeIndex: 2159 entries, 0 to 2158\n",
      "Data columns (total 4 columns):\n",
      " #   Column       Non-Null Count  Dtype  \n",
      "---  ------       --------------  -----  \n",
      " 0   ram          2159 non-null   int64  \n",
      " 1   storage      2159 non-null   int64  \n",
      " 2   screen       2155 non-null   float64\n",
      " 3   final_price  2159 non-null   float64\n",
      "dtypes: float64(2), int64(2)\n",
      "memory usage: 67.6 KB\n"
     ]
    }
   ],
   "source": [
    "df.info()"
   ]
  },
  {
   "cell_type": "code",
   "execution_count": 218,
   "id": "e0154b91-c312-4514-917e-52a3eb02cb8d",
   "metadata": {},
   "outputs": [
    {
     "data": {
      "text/plain": [
       "np.float64(607.01)"
      ]
     },
     "execution_count": 218,
     "metadata": {},
     "output_type": "execute_result"
    }
   ],
   "source": [
    "df_shuffled = suffle_df(df, 9).copy()\n",
    "df_shuffled = df_shuffled.reset_index(drop=True)\n",
    "n = len(df_shuffled)\n",
    "\n",
    "n_val = int(0.2 * n)\n",
    "n_test = int(0.2 * n)\n",
    "n_train = n - (n_val + n_test)\n",
    "\n",
    "df_train = df_shuffled.iloc[:n_train].copy()\n",
    "df_val = df_shuffled.iloc[n_train:n_train+n_val].copy()\n",
    "df_test_c = df_shuffled.iloc[n_train+n_val:].copy()\n",
    "\n",
    "\n",
    "df_train_combined = pd.concat([df_train, df_val])\n",
    "df_train_combined = df_train_combined.reset_index(drop=True)\n",
    "\n",
    "#y_train_combined = np.log1p(df_train_combined.final_price.values)\n",
    "y_train_combined = df_train_combined.final_price.values\n",
    "del df_train_combined['final_price']\n",
    "\n",
    "\n",
    "df_train_combined['screen'] = df_train_combined['screen'].fillna(0.0)\n",
    "X_train_combined = df_train_combined.values\n",
    "\n",
    "#y_test_c = np.log1p(df_test_c.final_price.values)\n",
    "y_test_c = df_test_c.final_price.values\n",
    "del df_test_c['final_price']\n",
    "\n",
    "\n",
    "df_test_c['screen'] = df_test_c['screen'].fillna(0.0)\n",
    "X_test = df_test_c.values\n",
    "\n",
    "w_0, w = train_linear_regression_reg(X_train_combined, y_train_combined, 0.001)\n",
    "        \n",
    "y_predict_test = w_0 + X_test.dot(w)\n",
    "test_rmse = rmse(y_test_c, y_predict_test)\n",
    "\n",
    "round(test_rmse,2)\n"
   ]
  },
  {
   "cell_type": "code",
   "execution_count": 221,
   "id": "30eeaf48",
   "metadata": {},
   "outputs": [
    {
     "name": "stdout",
     "output_type": "stream",
     "text": [
      "Q6 test RMSE:  607.01\n"
     ]
    }
   ],
   "source": [
    "print('Q6 test RMSE: ', round(test_rmse, 2))"
   ]
  },
  {
   "cell_type": "code",
   "execution_count": null,
   "id": "baca7fd0",
   "metadata": {},
   "outputs": [],
   "source": []
  }
 ],
 "metadata": {
  "kernelspec": {
   "display_name": "Python 3 (ipykernel)",
   "language": "python",
   "name": "python3"
  },
  "language_info": {
   "codemirror_mode": {
    "name": "ipython",
    "version": 3
   },
   "file_extension": ".py",
   "mimetype": "text/x-python",
   "name": "python",
   "nbconvert_exporter": "python",
   "pygments_lexer": "ipython3",
   "version": "3.10.6"
  }
 },
 "nbformat": 4,
 "nbformat_minor": 5
}
